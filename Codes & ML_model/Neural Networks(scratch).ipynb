{
 "cells": [
  {
   "cell_type": "code",
   "execution_count": 148,
   "metadata": {},
   "outputs": [],
   "source": [
    "import numpy as np\n",
    "import pandas as pd\n",
    "from sklearn.datasets import load_breast_cancer\n",
    "from sklearn.model_selection import train_test_split\n",
    "from sklearn.preprocessing import MinMaxScaler\n"
   ]
  },
  {
   "cell_type": "code",
   "execution_count": 149,
   "metadata": {},
   "outputs": [],
   "source": [
    "data_dict=load_breast_cancer()"
   ]
  },
  {
   "cell_type": "code",
   "execution_count": 150,
   "metadata": {},
   "outputs": [
    {
     "data": {
      "text/plain": [
       "['target_names', 'data', 'target', 'DESCR', 'feature_names']"
      ]
     },
     "execution_count": 150,
     "metadata": {},
     "output_type": "execute_result"
    }
   ],
   "source": [
    "data_dict.keys()"
   ]
  },
  {
   "cell_type": "code",
   "execution_count": 151,
   "metadata": {},
   "outputs": [],
   "source": [
    "def initialise_dataset():\n",
    "    data_dict=load_breast_cancer()\n",
    "    X,Y = data_dict['data'],data_dict['target']\n",
    "    \n",
    "    ##scaling dataset\n",
    "    scaler = MinMaxScaler()\n",
    "    X = scaler.fit_transform(X)\n",
    "    Y=Y.reshape(Y.shape[0],1)\n",
    "    X=X.T\n",
    "    Y=Y.T\n",
    "    return X,Y"
   ]
  },
  {
   "cell_type": "code",
   "execution_count": 152,
   "metadata": {},
   "outputs": [],
   "source": [
    "def initialise_dimensions(X,Y):\n",
    "    m,n=(X.T).shape\n",
    "    return m,n"
   ]
  },
  {
   "cell_type": "code",
   "execution_count": 153,
   "metadata": {},
   "outputs": [],
   "source": [
    "def initialise_weight(f,layer):\n",
    "    init_epsilon=10**(-4)\n",
    "    theta=np.random.rand(f,layer)*(2*init_epsilon)-(init_epsilon)\n",
    "    return theta"
   ]
  },
  {
   "cell_type": "code",
   "execution_count": 154,
   "metadata": {},
   "outputs": [],
   "source": [
    "def initialise_bias(layer,m):\n",
    "    return np.ones((layer,m))"
   ]
  },
  {
   "cell_type": "code",
   "execution_count": 155,
   "metadata": {},
   "outputs": [],
   "source": [
    "def sigmoid_of(Z):\n",
    "    return 1.0 / (1.0 + np.exp(-Z))"
   ]
  },
  {
   "cell_type": "code",
   "execution_count": 156,
   "metadata": {},
   "outputs": [],
   "source": [
    "def derivative_of_sigmoid(x):\n",
    "    return x*(1-x)"
   ]
  },
  {
   "cell_type": "code",
   "execution_count": 157,
   "metadata": {},
   "outputs": [],
   "source": [
    "def compute_cost(A2,Y):\n",
    "    Y_pred1=np.multiply(Y,np.log(A2))\n",
    "    Y_pred0=np.multiply((1-Y),np.log(1-A2))\n",
    "    Y_pred=Y_pred1+Y_pred0\n",
    "    ssum=(-1.0/m)*np.sum(Y_pred)\n",
    "    return ssum"
   ]
  },
  {
   "cell_type": "code",
   "execution_count": 158,
   "metadata": {},
   "outputs": [],
   "source": [
    "X,Y=initialise_dataset()\n",
    "m,n=initialise_dimensions(X,Y)\n",
    "layer1=50\n",
    "layer2=1\n",
    "\n",
    "#initailising weight1 and bias1 for hidden layer 1\n",
    "\n",
    "theta1=initialise_weight(n,layer1)\n",
    "bias1=initialise_bias(layer1,m)\n",
    "\n",
    "#initialising weight2 and bias2 for  output layer i.e. layer 2\n",
    "\n",
    "theta2=initialise_weight(layer1,layer2)\n",
    "bias2=initialise_bias(layer2,m)"
   ]
  },
  {
   "cell_type": "code",
   "execution_count": 159,
   "metadata": {},
   "outputs": [
    {
     "name": "stdout",
     "output_type": "stream",
     "text": [
      "Cost after iteration 0: 0.685878 | accuracy after iteration 0: 62.741652\n",
      "Cost after iteration 1000: 0.639396 | accuracy after iteration 1000: 62.741652\n",
      "Cost after iteration 2000: 0.619403 | accuracy after iteration 2000: 62.741652\n",
      "Cost after iteration 3000: 0.599774 | accuracy after iteration 3000: 62.741652\n",
      "Cost after iteration 4000: 0.564335 | accuracy after iteration 4000: 62.741652\n",
      "Cost after iteration 5000: 0.298319 | accuracy after iteration 5000: 95.254833\n",
      "Cost after iteration 6000: 0.156873 | accuracy after iteration 6000: 97.188049\n",
      "Cost after iteration 7000: 0.112972 | accuracy after iteration 7000: 98.242531\n",
      "Cost after iteration 8000: 0.089836 | accuracy after iteration 8000: 98.945518\n",
      "Cost after iteration 9000: 0.074520 | accuracy after iteration 9000: 99.297012\n"
     ]
    }
   ],
   "source": [
    "for epoch in range (0,10000):\n",
    "#forward propagation\n",
    "\n",
    "    Z1=(np.dot(theta1.T,X))+bias1\n",
    "    A1=sigmoid_of(Z1)\n",
    "\n",
    "    Z2=(np.dot(theta2.T,A1))+bias2\n",
    "    A2=sigmoid_of(Z2)\n",
    "    \n",
    "#     y_pred = np.where(A2 > 0.5, 1, 0)\n",
    "#     print y_pred.shape\n",
    "#     print Y.shape\n",
    "#     print y_pred[:7]\n",
    "#     print Y[:7]\n",
    "#     print np.sum(y_pred[ : ,1]==Y[ : ,1])\n",
    "    #now, we have to compute cost function for all the output units. Here the number of output units(k) is 1 \n",
    "\n",
    "    cost=compute_cost(A2,Y)\n",
    "    if epoch%1000==0 :\n",
    "        y_pred = np.where(A2 > 0.5, 1, 0)\n",
    "        accuracy=(float(np.sum(y_pred.reshape(m)[:]==Y.reshape(m)[:]))/m)*100\n",
    "    #accuracy = (float(np.sum(y_pred[:,0] == Y[:,0]))/ X.shape[0])* 100\n",
    "        print (\"Cost after iteration %i: %f | accuracy after iteration %i: %f\" % (epoch, cost, epoch, accuracy))\n",
    "    ##back-propagation\n",
    "\n",
    "\n",
    "    err2=(A2-Y)\n",
    "    delta_theta2=np.dot(err2,A1.T)\n",
    "    delta_theta2=delta_theta2.T\n",
    "\n",
    "    delta_bias2=err2\n",
    "\n",
    "    ##print delta_theta2.shape,delta_bias2.shape,theta2.shape\n",
    "\n",
    "    delta1=np.dot(theta2,err2)\n",
    "    err_1=np.multiply(A1,(1-A1))\n",
    "    err1=np.multiply(delta1,err_1)\n",
    "    ##print delta1.shape,err1.shape\n",
    "\n",
    "    delta_theta1=np.dot(err1,X.T)\n",
    "    delta_theta1=delta_theta1.T\n",
    "\n",
    "    delta_bias1=err1\n",
    "\n",
    "    ##print delta_theta1.shape,delta_bias1.shape,theta1.shape\n",
    "\n",
    "    theta1=theta1-((0.05/m)*delta_theta1)\n",
    "    bias1=bias1-((0.05/m)*delta_bias1)\n",
    "    theta2=theta2-((0.05/m)*delta_theta2)\n",
    "    bias2=bias2-((0.05/m)*delta_bias2)"
   ]
  },
  {
   "cell_type": "markdown",
   "metadata": {},
   "source": []
  },
  {
   "cell_type": "code",
   "execution_count": 141,
   "metadata": {},
   "outputs": [],
   "source": [
    "y_pred = np.where(A2 > 0.5, 1, 0)"
   ]
  },
  {
   "cell_type": "code",
   "execution_count": 142,
   "metadata": {},
   "outputs": [
    {
     "data": {
      "text/plain": [
       "array([0, 0, 0, 0, 0, 0, 0, 0, 0, 0, 0, 0, 0, 0, 0, 0, 0, 0, 0, 1, 1, 1, 0,\n",
       "       0, 0, 0, 0, 0, 0, 0, 0, 0, 0, 0, 0, 0, 0, 1, 1, 0, 1, 0, 0, 0, 0, 0,\n",
       "       1, 0, 1, 1, 1, 1, 1, 0, 0, 1, 0, 0, 1, 1])"
      ]
     },
     "execution_count": 142,
     "metadata": {},
     "output_type": "execute_result"
    }
   ],
   "source": [
    "y_pred.reshape(m)[:60]"
   ]
  },
  {
   "cell_type": "code",
   "execution_count": 143,
   "metadata": {},
   "outputs": [
    {
     "data": {
      "text/plain": [
       "array([0, 0, 0, 0, 0, 0, 0, 0, 0, 0, 0, 0, 0, 0, 0, 0, 0, 0, 0, 1, 1, 1, 0,\n",
       "       0, 0, 0, 0, 0, 0, 0, 0, 0, 0, 0, 0, 0, 0, 1, 0, 0, 0, 0, 0, 0, 0, 0,\n",
       "       1, 0, 1, 1, 1, 1, 1, 0, 0, 1, 0, 0, 1, 1])"
      ]
     },
     "execution_count": 143,
     "metadata": {},
     "output_type": "execute_result"
    }
   ],
   "source": [
    "Y.reshape(m)[:60]"
   ]
  },
  {
   "cell_type": "code",
   "execution_count": 145,
   "metadata": {},
   "outputs": [
    {
     "data": {
      "text/plain": [
       "565"
      ]
     },
     "execution_count": 145,
     "metadata": {},
     "output_type": "execute_result"
    }
   ],
   "source": [
    "np.sum(y_pred.reshape(m)[:]==Y.reshape(m)[:])"
   ]
  },
  {
   "cell_type": "code",
   "execution_count": 146,
   "metadata": {},
   "outputs": [
    {
     "data": {
      "text/plain": [
       "569"
      ]
     },
     "execution_count": 146,
     "metadata": {},
     "output_type": "execute_result"
    }
   ],
   "source": [
    "m"
   ]
  },
  {
   "cell_type": "code",
   "execution_count": 126,
   "metadata": {},
   "outputs": [],
   "source": [
    "y_pred=y_pred.reshape(m)"
   ]
  },
  {
   "cell_type": "code",
   "execution_count": 127,
   "metadata": {},
   "outputs": [],
   "source": [
    "Y=Y.reshape(m)"
   ]
  },
  {
   "cell_type": "code",
   "execution_count": 128,
   "metadata": {},
   "outputs": [
    {
     "data": {
      "text/plain": [
       "array([ True,  True,  True,  True,  True,  True,  True,  True,  True,\n",
       "        True,  True,  True,  True,  True,  True,  True,  True,  True,\n",
       "        True,  True], dtype=bool)"
      ]
     },
     "execution_count": 128,
     "metadata": {},
     "output_type": "execute_result"
    }
   ],
   "source": [
    "y_pred[:20]==Y[:20]"
   ]
  },
  {
   "cell_type": "code",
   "execution_count": null,
   "metadata": {},
   "outputs": [],
   "source": []
  }
 ],
 "metadata": {
  "kernelspec": {
   "display_name": "Python 2",
   "language": "python",
   "name": "python2"
  },
  "language_info": {
   "codemirror_mode": {
    "name": "ipython",
    "version": 2
   },
   "file_extension": ".py",
   "mimetype": "text/x-python",
   "name": "python",
   "nbconvert_exporter": "python",
   "pygments_lexer": "ipython2",
   "version": "2.7.15rc1"
  }
 },
 "nbformat": 4,
 "nbformat_minor": 2
}
