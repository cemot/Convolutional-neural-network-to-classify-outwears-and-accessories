{
  "nbformat": 4,
  "nbformat_minor": 0,
  "metadata": {
    "colab": {
      "name": "binaryclassificationNN.ipynb",
      "version": "0.3.2",
      "provenance": [],
      "collapsed_sections": []
    },
    "kernelspec": {
      "name": "python3",
      "display_name": "Python 3"
    }
  },
  "cells": [
    {
      "metadata": {
        "id": "uEbcHV3i_ie-",
        "colab_type": "code",
        "colab": {}
      },
      "cell_type": "code",
      "source": [
        "import pandas as pd\n",
        "import numpy as np\n",
        "%matplotlib inline\n",
        "from matplotlib import pyplot as plt"
      ],
      "execution_count": 0,
      "outputs": []
    },
    {
      "metadata": {
        "id": "mDoGZgymFJgj",
        "colab_type": "code",
        "colab": {}
      },
      "cell_type": "code",
      "source": [
        "data=[[3,1.5,1],[2,1,0],[4,1.5,1],[3,1,0],[3.5,0.5,1],[2,0.5,0],[5.5,1,1],[1,1,0]] #Training Data\n",
        "a=[4,5] #Testing Data\n",
        "b1=[3,5]"
      ],
      "execution_count": 0,
      "outputs": []
    },
    {
      "metadata": {
        "id": "cjvkgOYeGCVo",
        "colab_type": "code",
        "outputId": "fd103754-24ff-4814-943a-b54cac190a6d",
        "colab": {
          "base_uri": "https://localhost:8080/",
          "height": 163
        }
      },
      "cell_type": "code",
      "source": [
        "data"
      ],
      "execution_count": 0,
      "outputs": [
        {
          "output_type": "execute_result",
          "data": {
            "text/plain": [
              "[[3, 1.5, 1],\n",
              " [2, 1, 0],\n",
              " [4, 1.5, 1],\n",
              " [3, 1, 0],\n",
              " [3.5, 0.5, 1],\n",
              " [2, 0.5, 0],\n",
              " [5.5, 1, 1],\n",
              " [1, 1, 0]]"
            ]
          },
          "metadata": {
            "tags": []
          },
          "execution_count": 15
        }
      ]
    },
    {
      "metadata": {
        "id": "yPE_RmaCGgf7",
        "colab_type": "code",
        "colab": {}
      },
      "cell_type": "code",
      "source": [
        "# calculate sigmoid\n",
        "def sigmoid(x):\n",
        "  return 1/(1+np.exp(-x)) \n",
        "\n",
        "#calculate the derivative of sigmoid\n",
        "def sigmoid_p(x):\n",
        "  return sigmoid(x) * (1-sigmoid(x))"
      ],
      "execution_count": 0,
      "outputs": []
    },
    {
      "metadata": {
        "id": "r0y_kCtg_oNy",
        "colab_type": "code",
        "outputId": "c584342f-b10c-4a77-953d-857c382c7fa9",
        "colab": {
          "base_uri": "https://localhost:8080/",
          "height": 459
        }
      },
      "cell_type": "code",
      "source": [
        "#plot sigmoid and sigmoid_p graphs\n",
        "t=np.linspace(-5,5,100)\n",
        "y=sigmoid(t)\n",
        "z=sigmoid_p(t)\n",
        "plt.plot(t,y,c='r')\n",
        "plt.plot(t,z,c='b')\n",
        "s"
      ],
      "execution_count": 0,
      "outputs": [
        {
          "output_type": "error",
          "ename": "NameError",
          "evalue": "ignored",
          "traceback": [
            "\u001b[0;31m---------------------------------------------------------------------------\u001b[0m",
            "\u001b[0;31mNameError\u001b[0m                                 Traceback (most recent call last)",
            "\u001b[0;32m<ipython-input-17-210557370783>\u001b[0m in \u001b[0;36m<module>\u001b[0;34m()\u001b[0m\n\u001b[1;32m      4\u001b[0m \u001b[0mplt\u001b[0m\u001b[0;34m.\u001b[0m\u001b[0mplot\u001b[0m\u001b[0;34m(\u001b[0m\u001b[0mt\u001b[0m\u001b[0;34m,\u001b[0m\u001b[0my\u001b[0m\u001b[0;34m,\u001b[0m\u001b[0mc\u001b[0m\u001b[0;34m=\u001b[0m\u001b[0;34m'r'\u001b[0m\u001b[0;34m)\u001b[0m\u001b[0;34m\u001b[0m\u001b[0;34m\u001b[0m\u001b[0m\n\u001b[1;32m      5\u001b[0m \u001b[0mplt\u001b[0m\u001b[0;34m.\u001b[0m\u001b[0mplot\u001b[0m\u001b[0;34m(\u001b[0m\u001b[0mt\u001b[0m\u001b[0;34m,\u001b[0m\u001b[0mz\u001b[0m\u001b[0;34m,\u001b[0m\u001b[0mc\u001b[0m\u001b[0;34m=\u001b[0m\u001b[0;34m'b'\u001b[0m\u001b[0;34m)\u001b[0m\u001b[0;34m\u001b[0m\u001b[0;34m\u001b[0m\u001b[0m\n\u001b[0;32m----> 6\u001b[0;31m \u001b[0ms\u001b[0m\u001b[0;34m\u001b[0m\u001b[0;34m\u001b[0m\u001b[0m\n\u001b[0m",
            "\u001b[0;31mNameError\u001b[0m: name 's' is not defined"
          ]
        },
        {
          "output_type": "display_data",
          "data": {
            "image/png": "[encoded data removed]",
            "text/plain": [
              "<Figure size 432x288 with 1 Axes>"
            ]
          },
          "metadata": {
            "tags": []
          }
        }
      ]
    },
    {
      "metadata": {
        "id": "mBvwuXzgJWPL",
        "colab_type": "code",
        "outputId": "c74a4728-166b-4ab4-b74d-c12aae3d4e80",
        "colab": {
          "base_uri": "https://localhost:8080/",
          "height": 269
        }
      },
      "cell_type": "code",
      "source": [
        "# Scatter plot of data\n",
        "plt.axis([0,6,0,6])\n",
        "plt.grid()\n",
        "for i in range(len(data)):\n",
        "  point=data[i]\n",
        "  color='r'\n",
        "  if point[2]==0:\n",
        "    color='b'\n",
        "  plt.scatter(point[0],point[1],c=color)"
      ],
      "execution_count": 0,
      "outputs": [
        {
          "output_type": "display_data",
          "data": {
            "image/png": "[encoded data removed]",
            "text/plain": [
              "<Figure size 432x288 with 1 Axes>"
            ]
          },
          "metadata": {
            "tags": []
          }
        }
      ]
    },
    {
      "metadata": {
        "id": "Wi7MLI5xADTL",
        "colab_type": "code",
        "outputId": "f286049b-f14f-45be-f5d5-e60e3d5970e0",
        "colab": {
          "base_uri": "https://localhost:8080/",
          "height": 287
        }
      },
      "cell_type": "code",
      "source": [
        "# training the model\n",
        "w1=np.random.randn()\n",
        "w2=np.random.randn()\n",
        "b=np.random.randn()\n",
        "\n",
        "learning_rate=0.2\n",
        "costs=[]\n",
        "for i in range(50000):\n",
        "  ri=np.random.randint(len(data))\n",
        "  point=data[ri]\n",
        "\n",
        "  z=point[0]*w1 + point[1]*w2 + b\n",
        "  pred=sigmoid(z)\n",
        "  \n",
        "  target=point[2]\n",
        "  cost=np.square(pred-target)\n",
        "  \n",
        "  \n",
        "  \n",
        "  dcost_pred = 2*(pred-target)\n",
        "  dpred_dz= sigmoid_p(z)\n",
        "  dz_dw1 = point[0]\n",
        "  dz_dw2 = point[1]\n",
        "  dz_db = 1\n",
        "  \n",
        "  dcost_dz= dcost_pred * dpred_dz\n",
        "  \n",
        "  dcost_dw1= dcost_dz * dz_dw1\n",
        "  dcost_dw2= dcost_dz * dz_dw2\n",
        "  dcost_db= dcost_dz * dz_db\n",
        "  \n",
        "  w1 = w1 - learning_rate * dcost_dw1\n",
        "  w2 = w2 - learning_rate * dcost_dw2\n",
        "  b = b - learning_rate * dcost_db\n",
        " #plot graph of clot functions \n",
        "  if i%100 == 0:\n",
        "    cost_sum=0\n",
        "    for j in range(len(data)):\n",
        "      p=data[j]\n",
        "      z= p[0]*w1+p[1]*w2+b\n",
        "      pred=sigmoid(z)\n",
        "      target=p[2]\n",
        "      cost_sum += np.square(pred-target)\n",
        "    costs.append(cost_sum/len(data))\n",
        "\n",
        "plt.plot(costs)"
      ],
      "execution_count": 0,
      "outputs": [
        {
          "output_type": "execute_result",
          "data": {
            "text/plain": [
              "[<matplotlib.lines.Line2D at 0x7f63a7ba1cf8>]"
            ]
          },
          "metadata": {
            "tags": []
          },
          "execution_count": 19
        },
        {
          "output_type": "display_data",
          "data": {
            "image/png": "[encoded data removed]",
            "text/plain": [
              "<Figure size 432x288 with 1 Axes>"
            ]
          },
          "metadata": {
            "tags": []
          }
        }
      ]
    },
    {
      "metadata": {
        "id": "IVMGH_kCS3e9",
        "colab_type": "code",
        "outputId": "790c3e52-a2bd-4e9d-af2c-78504899197c",
        "colab": {
          "base_uri": "https://localhost:8080/",
          "height": 35
        }
      },
      "cell_type": "code",
      "source": [
        "w1"
      ],
      "execution_count": 0,
      "outputs": [
        {
          "output_type": "execute_result",
          "data": {
            "text/plain": [
              "6.888328271597707"
            ]
          },
          "metadata": {
            "tags": []
          },
          "execution_count": 20
        }
      ]
    },
    {
      "metadata": {
        "id": "jK87yfB-I1So",
        "colab_type": "code",
        "outputId": "fdf38b17-49e7-4dba-a632-bcc19c093534",
        "colab": {
          "base_uri": "https://localhost:8080/",
          "height": 35
        }
      },
      "cell_type": "code",
      "source": [
        "w2"
      ],
      "execution_count": 0,
      "outputs": [
        {
          "output_type": "execute_result",
          "data": {
            "text/plain": [
              "3.244650523817635"
            ]
          },
          "metadata": {
            "tags": []
          },
          "execution_count": 21
        }
      ]
    },
    {
      "metadata": {
        "id": "xWbP4L5nS5vq",
        "colab_type": "code",
        "outputId": "5a83546b-2eb9-4043-9705-d29aab47cb1b",
        "colab": {
          "base_uri": "https://localhost:8080/",
          "height": 35
        }
      },
      "cell_type": "code",
      "source": [
        "b"
      ],
      "execution_count": 0,
      "outputs": [
        {
          "output_type": "execute_result",
          "data": {
            "text/plain": [
              "-24.485425827582155"
            ]
          },
          "metadata": {
            "tags": []
          },
          "execution_count": 22
        }
      ]
    },
    {
      "metadata": {
        "id": "8D7VU8ObL-Y6",
        "colab_type": "code",
        "outputId": "1a132bf0-abc0-4455-d6fd-baeb0a8b6470",
        "colab": {
          "base_uri": "https://localhost:8080/",
          "height": 308
        }
      },
      "cell_type": "code",
      "source": [
        "for i in range(len(data)):\n",
        "  point=data[i]\n",
        "  print (point)\n",
        "  z= point[0]*w1 + point[1]*w2 + b\n",
        "  pred=sigmoid(z)\n",
        "  print (\"pred: {}\".format(pred))"
      ],
      "execution_count": 0,
      "outputs": [
        {
          "output_type": "stream",
          "text": [
            "[3, 1.5, 1]\n",
            "pred: 0.7401089254909691\n",
            "[2, 1, 0]\n",
            "pred: 0.0005729615844402172\n",
            "[4, 1.5, 1]\n",
            "pred: 0.9996420871444536\n",
            "[3, 1, 0]\n",
            "pred: 0.3599017761910581\n",
            "[3.5, 0.5, 1]\n",
            "pred: 0.7766150681948214\n",
            "[2, 0.5, 0]\n",
            "pred: 0.00011317704381358228\n",
            "[5.5, 1, 1]\n",
            "pred: 0.9999999409587951\n",
            "[1, 1, 0]\n",
            "pred: 5.845359123924039e-07\n"
          ],
          "name": "stdout"
        }
      ]
    },
    {
      "metadata": {
        "id": "bdy0QTSbTslY",
        "colab_type": "code",
        "outputId": "649a97e3-47fe-4f43-ef9f-030a688c3610",
        "colab": {
          "base_uri": "https://localhost:8080/",
          "height": 35
        }
      },
      "cell_type": "code",
      "source": [
        "z=b1[0]*w1+b1[1]*w2 + b\n",
        "pred = sigmoid(z)\n",
        "if(pred >= 0.5):\n",
        "  print (\"It is a red flower\")\n",
        "else:\n",
        "  print (\"it is a blue flower\")"
      ],
      "execution_count": 0,
      "outputs": [
        {
          "output_type": "stream",
          "text": [
            "It is a red flower\n"
          ],
          "name": "stdout"
        }
      ]
    },
    {
      "metadata": {
        "id": "6a07yxr51bC-",
        "colab_type": "code",
        "colab": {}
      },
      "cell_type": "code",
      "source": [
        ""
      ],
      "execution_count": 0,
      "outputs": []
    }
  ]
}