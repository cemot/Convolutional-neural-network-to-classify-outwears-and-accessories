{
 "cells": [
  {
   "cell_type": "code",
   "execution_count": 199,
   "metadata": {},
   "outputs": [],
   "source": [
    "import numpy as np\n",
    "import pandas as pd\n",
    "from sklearn.datasets import load_breast_cancer\n",
    "from sklearn.preprocessing import MinMaxScaler"
   ]
  },
  {
   "cell_type": "code",
   "execution_count": 200,
   "metadata": {},
   "outputs": [],
   "source": [
    "def initialise_dataset():\n",
    "    data_dict=load_breast_cancer()\n",
    "    X,Y = data_dict['data'],data_dict['target']\n",
    "    scaler = MinMaxScaler()\n",
    "    X = scaler.fit_transform(X)\n",
    "    return X,Y"
   ]
  },
  {
   "cell_type": "code",
   "execution_count": 201,
   "metadata": {},
   "outputs": [],
   "source": [
    "def initialise_dimensions(X,Y):\n",
    "    m, n = X.shape[0],X.shape[1]\n",
    "    k = Y.shape[1]\n",
    "    return m, n, k"
   ]
  },
  {
   "cell_type": "code",
   "execution_count": 202,
   "metadata": {},
   "outputs": [],
   "source": [
    "def initialise_weights(X,Y):\n",
    "    theta=np.zeros((1,X.shape[1]))\n",
    "    return theta"
   ]
  },
  {
   "cell_type": "code",
   "execution_count": 203,
   "metadata": {},
   "outputs": [],
   "source": [
    "def sigmoid_of(Z):\n",
    "    return 1.0 / (1.0 + np.exp(-Z))"
   ]
  },
  {
   "cell_type": "code",
   "execution_count": 204,
   "metadata": {},
   "outputs": [],
   "source": [
    "def compute_cost(X,Y,m,n,theta):\n",
    "    Z=np.dot(X,theta.T)\n",
    "    A=sigmoid_of(Z)\n",
    "\n",
    "    #calculate total cost in 2 parts\n",
    "    \n",
    "    #part1: when y=1;prediction :\n",
    "    \n",
    "    Y_pred1=np.multiply(Y,np.log(A))\n",
    "    \n",
    "    #part2 : when y=0;prediction :\n",
    "    \n",
    "    Y_pred0=np.multiply((1-Y),np.log(1-A))\n",
    "    \n",
    "    #adding the cost \n",
    "    \n",
    "    Y_pred=Y_pred1+Y_pred0\n",
    "    \n",
    "    \n",
    "    ssum=(-1.0/m)*np.sum(Y_pred)\n",
    "    \n",
    "    return ssum\n",
    "    "
   ]
  },
  {
   "cell_type": "code",
   "execution_count": 205,
   "metadata": {},
   "outputs": [],
   "source": [
    "def compute_gradient(X,Y,m,n,theta):\n",
    "    \n",
    "    Z=np.dot(X,theta.T)\n",
    "    A=sigmoid_of(Z)\n",
    "    \n",
    "    dw=(1.0/m)*np.dot((A-Y).T,X)\n",
    "    \n",
    "    return dw\n",
    "    \n",
    "    \n",
    "    "
   ]
  },
  {
   "cell_type": "code",
   "execution_count": 206,
   "metadata": {},
   "outputs": [],
   "source": [
    "def train_logistic_reg(X,Y):\n",
    "    #initialise dimensions,weights,learning_rate\n",
    "    \n",
    "    m,n,k=initialise_dimensions(X,Y)\n",
    "    theta=initialise_weights(X,Y)    \n",
    "    learning_rate=0.05\n",
    "    iterations=10000\n",
    "    \n",
    "    #starting iterations\n",
    "    for p in range(iterations):    \n",
    "        #forward propagation\n",
    "\n",
    "        cost=compute_cost(X,Y,m,n,theta)\n",
    "\n",
    "        #backward propagation\n",
    "\n",
    "        dw=compute_gradient(X,Y,m,n,theta)\n",
    "\n",
    "        #update theta using gradient\n",
    "\n",
    "        theta=theta-(learning_rate*dw)\n",
    "        \n",
    "        if (p % 500 == 0):\n",
    "            activations = sigmoid_of(np.dot(X, theta.T))\n",
    "            y_pred = np.where(activations > 0.5, 1, 0)\n",
    "            accuracy = (float(np.sum(y_pred[:,0] == Y[:,0]))/ m)* 100\n",
    "            print (\"Cost after iteration %i: %f | accuracy after iteration %i: %f\" % (p, cost,p, accuracy))\n",
    "        \n",
    "    result_Z=np.dot(X, theta.T)\n",
    "    activations = sigmoid_of(result_Z)\n",
    "    y_pred = np.where(activations > 0.5, 1, 0)\n",
    "    print \"\\nPredicted Y :\", y_pred.reshape(m)[:60]\n",
    "    print \"\\nActual Y :\" ,Y.reshape(m)[:60]\n",
    "    "
   ]
  },
  {
   "cell_type": "code",
   "execution_count": 207,
   "metadata": {},
   "outputs": [
    {
     "name": "stdout",
     "output_type": "stream",
     "text": [
      "(569, 31) (569, 1)\n",
      "Cost after iteration 0: 0.693147 | accuracy after iteration 0: 65.026362\n",
      "Cost after iteration 500: 0.373827 | accuracy after iteration 500: 92.618629\n",
      "Cost after iteration 1000: 0.286767 | accuracy after iteration 1000: 92.970123\n",
      "Cost after iteration 1500: 0.244831 | accuracy after iteration 1500: 94.024605\n",
      "Cost after iteration 2000: 0.219297 | accuracy after iteration 2000: 94.376098\n",
      "Cost after iteration 2500: 0.201683 | accuracy after iteration 2500: 94.727592\n",
      "Cost after iteration 3000: 0.188563 | accuracy after iteration 3000: 94.727592\n",
      "Cost after iteration 3500: 0.178272 | accuracy after iteration 3500: 95.079086\n",
      "Cost after iteration 4000: 0.169901 | accuracy after iteration 4000: 95.254833\n",
      "Cost after iteration 4500: 0.162904 | accuracy after iteration 4500: 95.957821\n",
      "Cost after iteration 5000: 0.156932 | accuracy after iteration 5000: 96.309315\n",
      "Cost after iteration 5500: 0.151751 | accuracy after iteration 5500: 96.485062\n",
      "Cost after iteration 6000: 0.147196 | accuracy after iteration 6000: 96.836555\n",
      "Cost after iteration 6500: 0.143148 | accuracy after iteration 6500: 96.836555\n",
      "Cost after iteration 7000: 0.139518 | accuracy after iteration 7000: 96.836555\n",
      "Cost after iteration 7500: 0.136238 | accuracy after iteration 7500: 96.836555\n",
      "Cost after iteration 8000: 0.133254 | accuracy after iteration 8000: 96.836555\n",
      "Cost after iteration 8500: 0.130524 | accuracy after iteration 8500: 96.836555\n",
      "Cost after iteration 9000: 0.128014 | accuracy after iteration 9000: 96.836555\n",
      "Cost after iteration 9500: 0.125696 | accuracy after iteration 9500: 96.836555\n",
      "\n",
      "Predicted Y : [0 0 0 0 0 0 0 0 0 0 0 0 0 0 0 0 0 0 0 1 1 1 0 0 0 0 0 0 0 0 0 0 0 0 0 0 0\n",
      " 1 1 0 1 1 0 0 0 0 1 0 1 1 1 1 1 0 0 1 0 0 1 1]\n",
      "\n",
      "Actual Y : [0 0 0 0 0 0 0 0 0 0 0 0 0 0 0 0 0 0 0 1 1 1 0 0 0 0 0 0 0 0 0 0 0 0 0 0 0\n",
      " 1 0 0 0 0 0 0 0 0 1 0 1 1 1 1 1 0 0 1 0 0 1 1]\n"
     ]
    }
   ],
   "source": [
    "X,Y=initialise_dataset()\n",
    "\n",
    "X=np.c_[np.ones(X.shape[0]),X]\n",
    "\n",
    "Y=Y.reshape(X.shape[0],1)\n",
    "\n",
    "print X.shape,Y.shape\n",
    "\n",
    "train_logistic_reg(X,Y)"
   ]
  },
  {
   "cell_type": "code",
   "execution_count": null,
   "metadata": {},
   "outputs": [],
   "source": []
  },
  {
   "cell_type": "code",
   "execution_count": null,
   "metadata": {},
   "outputs": [],
   "source": []
  },
  {
   "cell_type": "code",
   "execution_count": null,
   "metadata": {},
   "outputs": [],
   "source": []
  },
  {
   "cell_type": "code",
   "execution_count": null,
   "metadata": {},
   "outputs": [],
   "source": []
  },
  {
   "cell_type": "code",
   "execution_count": null,
   "metadata": {},
   "outputs": [],
   "source": []
  },
  {
   "cell_type": "code",
   "execution_count": null,
   "metadata": {},
   "outputs": [],
   "source": []
  },
  {
   "cell_type": "code",
   "execution_count": null,
   "metadata": {},
   "outputs": [],
   "source": []
  }
 ],
 "metadata": {
  "kernelspec": {
   "display_name": "Python 2",
   "language": "python",
   "name": "python2"
  },
  "language_info": {
   "codemirror_mode": {
    "name": "ipython",
    "version": 2
   },
   "file_extension": ".py",
   "mimetype": "text/x-python",
   "name": "python",
   "nbconvert_exporter": "python",
   "pygments_lexer": "ipython2",
   "version": "2.7.15rc1"
  }
 },
 "nbformat": 4,
 "nbformat_minor": 2
}
